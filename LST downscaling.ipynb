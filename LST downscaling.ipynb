{
 "cells": [
  {
   "cell_type": "markdown",
   "metadata": {},
   "source": [
    "# MODIS land surface temperature downsclaing form 1000m resolution to 250m with random forest regression\n",
    "\n",
    "MODIS land surface temperature (LST) images are available at 1000m resolution. This means that every pixel of the image respresents an area of $1 km^2$. While MODIS images are available in varying times of the day their resolution is not great for the monitoring or study of the urban thermal environment. Landsat images while providing a better resolution they are only availlable once every 16 days and at the same local time of the area of interest. This code uses NDVI images from MODIS, which are provided in $250m$ resolution, as a predictor for the land surface temperature at the same scale effectively generating a new product for land surface temperature.\n",
    "\n",
    "Modis satellite images have been preprocessed and downloaded from https://lpdaacsvc.cr.usgs.gov/appeears/ for the area of interest: Athens, Greece.\n",
    "\n",
    "The prosess consists of the following steps:\n",
    "\n",
    "1. Extracting the LST images\n",
    "2. Using the filtered LST images to extract the coresponding NDVI images\n",
    "3. Resampling the NDVI images to 1000m resolution\n",
    "4. Performing random forest regression for the LST images and the resampled NDVI images\n",
    "5. Performing residual corrextion on the predicted images"
   ]
  },
  {
   "cell_type": "markdown",
   "metadata": {},
   "source": [
    "\n",
    "# Land surface temperature extraction   \n"
   ]
  },
  {
   "cell_type": "markdown",
   "metadata": {},
   "source": [
    "## First the needed packages are imported"
   ]
  },
  {
   "cell_type": "code",
   "execution_count": 1,
   "metadata": {},
   "outputs": [],
   "source": [
    "import numpy as np\n",
    "import glob\n",
    "import os\n",
    "import rasterio\n",
    "from rasterio.enums import Resampling\n",
    "import rasterio.mask\n",
    "import matplotlib.pyplot as plt \n",
    "import shutil\n",
    "from sklearn.ensemble import RandomForestRegressor\n",
    "\n",
    "\n"
   ]
  },
  {
   "cell_type": "markdown",
   "metadata": {},
   "source": [
    "## A simple quality mask is created based on the QA layer"
   ]
  },
  {
   "cell_type": "code",
   "execution_count": 2,
   "metadata": {},
   "outputs": [],
   "source": [
    "MODIS_flags = {\n",
    "    'LST_GOOD':0b0000000000000000,\n",
    "    'OTHER_QA':0b0000000000010001,\n",
    "    'Clouds':  0b0000000000000010,\n",
    "    'LST_Err1':0b0000000001000001, \n",
    "    'LST_Err2':0b0000000001010001,\n",
    "    'LST_Err3':0b0000000001100001,\n",
    "'LST_PRODUCED':0b0000000010010001\n",
    "  \n",
    "    }\n",
    "def get_mask(mask, flags_list):\n",
    "    \n",
    "    \n",
    "    final_mask = np.zeros_like(mask)\n",
    "    \n",
    "    \n",
    "    for flag in flags_list:\n",
    "       \n",
    "        flag_mask = np.bitwise_and(mask, MODIS_flags[flag])\n",
    "        \n",
    "       \n",
    "        final_mask = final_mask | flag_mask\n",
    "    \n",
    "    return final_mask > 0"
   ]
  },
  {
   "cell_type": "markdown",
   "metadata": {},
   "source": [
    "## The mask is applied and the resulting image is saved in the folder LST_NIGHT"
   ]
  },
  {
   "cell_type": "code",
   "execution_count": 3,
   "metadata": {},
   "outputs": [],
   "source": [
    "#Paths to files should be changed accordingly to the users judgement\n",
    "data_pre_dir_path = 'E:/appearstest/'\n",
    "modis_LST_Night_list = glob.glob(data_pre_dir_path + '*_LST_Night_1km*.tif')\n",
    "modis_QC_Night_list = glob.glob(data_pre_dir_path + '*_QC_Night*.tif')\n",
    "\n",
    "filenames = []\n",
    "for fname in modis_LST_Night_list :\n",
    "    filename = os.path.basename(fname)\n",
    "    filenames.append(filename)\n",
    "\n",
    "\n",
    "for i in range(len(modis_LST_Night_list)):\n",
    "    sds_1 = rasterio.open(modis_LST_Night_list[i])\n",
    "    sds_2 = rasterio.open(modis_QC_Night_list[i])\n",
    "    sds_1_np = sds_1.read(1, masked = True) * 0.02 \n",
    "    sds_2_np = sds_2.read(1, masked = True)\n",
    "  \n",
    "    sds_2_np = None\n",
    "    sds_2 = None\n",
    "    with rasterio.open(\n",
    "    'E:/appearstest/LST_NIGHT/'+filenames[i],\n",
    "    'w',\n",
    "    driver='GTiff',\n",
    "    height=sds_1.shape[0],\n",
    "    width=sds_1.shape[1],\n",
    "    count=1,\n",
    "    dtype= sds_1_np.dtype,\n",
    "    crs= sds_1.crs,\n",
    "    transform= sds_1.transform\n",
    "    )as dst:\n",
    "        dst.write(sds_1_np, 1)\n",
    "\n",
    "\n",
    "\n"
   ]
  },
  {
   "cell_type": "markdown",
   "metadata": {},
   "source": [
    "## Good images are seperated from poor ones based on the number of pixels of value 0. The ratio of \"black\" pixels over the total of the pixels of the image is calculated to estimate a good threshold for good images. The images of LST_NIGHT are filtered based on the above criteria and saved in the folder LST_NIGHT_USABLE.\n"
   ]
  },
  {
   "cell_type": "code",
   "execution_count": 4,
   "metadata": {},
   "outputs": [],
   "source": [
    "\n",
    "path = 'E:/appearstest/LST_NIGHT/'\n",
    "LST_NIGHT_list = glob.glob(path + \"*.tif\")\n",
    "\n",
    "for i in range(len(modis_LST_Night_list)):\n",
    "    sds_3 = rasterio.open(modis_LST_Night_list[i])\n",
    "    sds_3_np = sds_3.read(1)\n",
    "    number_of_black_pix = np.sum(sds_3_np == 0)\n",
    "    ratio = number_of_black_pix/(sds_3_np.shape[0]*sds_3_np.shape[1])\n",
    "    if ratio < 0.3:\n",
    "        shutil.copy('E:/appearstest/LST_NIGHT/'+filenames[i], 'E:/appearstest/LST_NIGHT_USABLE/')\n",
    "    "
   ]
  },
  {
   "cell_type": "markdown",
   "metadata": {},
   "source": [
    "## A crude test to confirm everything works"
   ]
  },
  {
   "cell_type": "code",
   "execution_count": 5,
   "metadata": {},
   "outputs": [
    {
     "name": "stdout",
     "output_type": "stream",
     "text": [
      "831\n",
      "0.25462962962962965\n"
     ]
    },
    {
     "data": {
      "text/plain": [
       "<matplotlib.image.AxesImage at 0x1fb9306b880>"
      ]
     },
     "execution_count": 5,
     "metadata": {},
     "output_type": "execute_result"
    },
    {
     "data": {
      "image/png": "[encoded data removed]",
      "text/plain": [
       "<Figure size 432x288 with 1 Axes>"
      ]
     },
     "metadata": {
      "needs_background": "light"
     },
     "output_type": "display_data"
    }
   ],
   "source": [
    "path = 'E:/appearstest/LST_NIGHT_USABLE/'\n",
    "LST_NIGHT_USABLE_list = glob.glob(path + \"*.tif\")\n",
    "print(len(LST_NIGHT_USABLE_list))\n",
    "LST = rasterio.open(LST_NIGHT_USABLE_list[6])\n",
    "LST_np = LST.read(1)\n",
    "number_of_black_pix = np.sum(LST_np == 0)\n",
    "ratio = number_of_black_pix/(LST_np.shape[0]*LST_np.shape[1])\n",
    "print(ratio)\n",
    "plt.imshow(LST_np, vmin = 290, vmax = 299)\n"
   ]
  },
  {
   "cell_type": "markdown",
   "metadata": {},
   "source": [
    "\n",
    "# NDVI calculation"
   ]
  },
  {
   "cell_type": "markdown",
   "metadata": {},
   "source": [
    "## Lists of the corresponding surface reflectance bands (red and near infra red) created based on the naming of the LST_NIGHT_USABLE images. (first ndvi filtering)\n"
   ]
  },
  {
   "cell_type": "code",
   "execution_count": 6,
   "metadata": {},
   "outputs": [],
   "source": [
    "#Paths to files should be changed accordingly to the users judgement\n",
    "data_pre_dir_path = 'E:/appearstest/'\n",
    "data_dest_path = 'E:/appearstest/NDVI_USABLE'\n",
    "LST_NIGHT_USABLE = glob.glob(data_pre_dir_path+ \"LST_NIGHT_USABLE/\" + \"*.tif\")\n",
    "band_1_list=[]\n",
    "band_2_list=[]\n",
    "modis_QC_list=[]\n",
    "filename = []\n",
    "\n",
    "for fname in LST_NIGHT_USABLE :\n",
    "    m = os.path.basename(fname)\n",
    "    \n",
    "    temp, tif = m.split(\".tif\")\n",
    "    \n",
    "    useless , doy = temp.split(\"_LST_Night_1km\")\n",
    "   \n",
    "    band_1_list.append(\"E:/appearstest/MOD09GQ.006_sur_refl_b01_1\"+ doy +\".tif\")\n",
    "    band_2_list.append(\"E:/appearstest/MOD09GQ.006_sur_refl_b02_1\"+ doy +\".tif\")\n",
    "    modis_QC_list.append(\"E:/appearstest/MOD09GQ.006_QC_250m_1\"+ doy +\".tif\")\n",
    "    filename.append(\"E:/appearstest/NDVI/MOD09GQ.006_NDVI_250m\"+ doy + \".tif\")\n",
    "\n",
    "\n",
    " \n",
    "\n",
    "   "
   ]
  },
  {
   "cell_type": "markdown",
   "metadata": {},
   "source": [
    "## Calculating th NDVI images and selecting only those tha fullfill the criteria enforced by ratio and ratio2 (Second ndvi filtering)"
   ]
  },
  {
   "cell_type": "code",
   "execution_count": 7,
   "metadata": {},
   "outputs": [],
   "source": [
    "for i in range(len(band_1_list)): \n",
    "    RED = rasterio.open(band_1_list[i])\n",
    "    NIR = rasterio.open(band_2_list[i])\n",
    "    QC_BAND = rasterio.open(modis_QC_list[i])\n",
    "   \n",
    "\n",
    "    ###Reading the bands and applaying the needed no data and quality masks \n",
    "    QC_BAND_np = QC_BAND.read(1, masked = True)\n",
    "    RED_np = RED.read(1, masked = True)\n",
    "    \n",
    "    RED_scaled = RED_np *0.0001 \n",
    "    NIR_np = NIR.read(1 ,masked = True)\n",
    "    NIR_scaled = NIR_np * 0.0001\n",
    "    \n",
    "    np.seterr(divide='ignore', invalid='ignore')\n",
    "    ###Calculating NDVI\n",
    "    NDVI_np = (NIR_scaled.astype(float) - RED_scaled.astype(float))/(NIR_scaled.astype(float) + RED_scaled.astype(float))\n",
    "    NDVI_np = np.where(NDVI_np<=0.05,-0.5,NDVI_np)#increasing the contrast by maximising the small values \n",
    "    \n",
    "        \n",
    "    number_of_light_pix = np.sum(NDVI_np >= 1)\n",
    "    ratio = number_of_light_pix/(NDVI_np.shape[0]*NDVI_np.shape[1])\n",
    "    number_of_black_pix = np.sum(NDVI_np <= 0)\n",
    "    ratio2 = number_of_black_pix/(NDVI_np.shape[0]*NDVI_np.shape[1])\n",
    "\n",
    "    if ratio <= 0.001 :\n",
    "        if ratio2 <= 0.25:\n",
    "            with rasterio.open(\n",
    "            filename[i],\n",
    "            'w',\n",
    "            driver='GTiff',\n",
    "            height=RED.shape[0],\n",
    "            width=RED.shape[1],\n",
    "            count=1,\n",
    "            dtype= rasterio.float64,\n",
    "            crs= RED.crs,\n",
    "            transform= RED.transform\n",
    "            )as dst:\n",
    "                dst.write(NDVI_np, 1)\n",
    "        \n",
    "                \n",
    "    \n"
   ]
  },
  {
   "cell_type": "markdown",
   "metadata": {},
   "source": [
    "## Visualising a NDVI image"
   ]
  },
  {
   "cell_type": "code",
   "execution_count": 8,
   "metadata": {},
   "outputs": [
    {
     "name": "stdout",
     "output_type": "stream",
     "text": [
      "70\n",
      "0.0\n",
      "(158, 108)\n"
     ]
    },
    {
     "data": {
      "image/png": "[encoded data removed]",
      "text/plain": [
       "<Figure size 432x288 with 1 Axes>"
      ]
     },
     "metadata": {
      "needs_background": "light"
     },
     "output_type": "display_data"
    }
   ],
   "source": [
    "path = 'E:/appearstest/NDVI/'\n",
    "LST_NIGHT_USABLE_list = glob.glob(path + \"*.tif\")\n",
    "print(len(LST_NIGHT_USABLE_list))\n",
    "LST = rasterio.open(LST_NIGHT_USABLE_list[0])\n",
    "LST_np = LST.read(1)\n",
    "number_of_black_pix = np.sum(LST_np == 0)\n",
    "ratio = number_of_black_pix/(LST_np.shape[0]*LST_np.shape[1])\n",
    "print(ratio)\n",
    "plt.imshow(LST_np, vmin = 0, vmax = 0.5)\n",
    "print(LST_np.shape)"
   ]
  },
  {
   "cell_type": "markdown",
   "metadata": {},
   "source": [
    "## In order to have the same ammount of LST and NDVI images since we will later use a random forest regression algorithm to make a one to one connection between the images we will filter out all the LST images which do not have a good quality corresponding NDVI image.(LST second filtering)\n",
    "\n",
    "In the following code block we extract the day of the year of the ndvi image and make a list of all the LST images with the same day of the year in their name, we than copy the files that are in the said list and transfer them to a new folder."
   ]
  },
  {
   "cell_type": "code",
   "execution_count": 9,
   "metadata": {},
   "outputs": [],
   "source": [
    "path_LST= 'E:/appearstest/LST_NIGHT_USABLE/'\n",
    "LST_NIGHT_USABLE_LIST = glob.glob(path_LST + \"*.tif\")\n",
    "\n",
    "\n",
    "path_NDVI= 'E:/appearstest/NDVI/'\n",
    "NDVI_LIST = glob.glob(path_NDVI + \"*.tif\")\n",
    "\n",
    "doy_list = []\n",
    "for i in range(len(NDVI_LIST)):\n",
    "    fname1 = os.path.basename(NDVI_LIST[i])\n",
    "    m1 = os.path.basename(fname1)\n",
    "    temp1, tif1 = m1.split(\".tif\")\n",
    "    useless1 , ndvi_doy = temp1.split(\"MOD09GQ.006_NDVI_250m\")\n",
    "    doy_list.append('E:/appearstest/LST_NIGHT_USABLE/MOD11A1.006_LST_Night_1km'+ndvi_doy+ \".tif\")\n",
    "\n",
    "\n",
    "for j in range(len(LST_NIGHT_USABLE_LIST)):   \n",
    "    if LST_NIGHT_USABLE_LIST[j] in doy_list:\n",
    "        shutil.copy(LST_NIGHT_USABLE_LIST[j], 'E:/appearstest/LST_NIGHT_F/')\n",
    "    else : \n",
    "        pass"
   ]
  },
  {
   "cell_type": "markdown",
   "metadata": {},
   "source": [
    "## A crude test to check if the files were transfered"
   ]
  },
  {
   "cell_type": "code",
   "execution_count": 10,
   "metadata": {},
   "outputs": [
    {
     "name": "stdout",
     "output_type": "stream",
     "text": [
      "70\n",
      "70\n"
     ]
    }
   ],
   "source": [
    "path_LST_F= 'E:/appearstest/LST_NIGHT_F/'\n",
    "LST_NIGHT_F_list = glob.glob(path_LST_F + \"*.tif\")\n",
    "print(len(LST_NIGHT_F_list))\n",
    "\n",
    "path_NDVI= 'E:/appearstest/NDVI/'\n",
    "NDVI_LIST = glob.glob(path_NDVI + \"*.tif\")\n",
    "print(len(NDVI_LIST))"
   ]
  },
  {
   "cell_type": "markdown",
   "metadata": {},
   "source": [
    "# Resampling the NDVI images  \n",
    "Each pixel's side is 250m and therefore the NDVI images have 16 times more pixels than the LST images of 1000m each side. The images are resampled to a \"worse\" resolution via mean aggregation in order for the machine learning model to be later trained on images of the same resolution-dimention."
   ]
  },
  {
   "cell_type": "code",
   "execution_count": 11,
   "metadata": {},
   "outputs": [],
   "source": [
    "data_pre_dir_path = 'E:/appearstest/NDVI_USABLE/'\n",
    "NDVI_USABLE_list = glob.glob(data_pre_dir_path + '*.tif')\n",
    "a = np.empty((40,27)) \n",
    "\n",
    "for i in range(len(NDVI_USABLE_list)):\n",
    "    filename = os.path.basename(NDVI_USABLE_list[i])\n",
    "    upscale_factor = 1/4\n",
    "\n",
    "    with rasterio.open(NDVI_USABLE_list[i]) as dataset:\n",
    "\n",
    "        \n",
    "        data = dataset.read(\n",
    "            out_shape=(\n",
    "                dataset.count,\n",
    "                int(dataset.height * upscale_factor),\n",
    "                int(dataset.width * upscale_factor)\n",
    "            ),\n",
    "            resampling=Resampling.average\n",
    "        )\n",
    "        data = np.where(data <= 0.05, 0, data )\n",
    "\n",
    "    #show(data)\n",
    "    with rasterio.open(\n",
    "    'E:/appearstest/NDVI_TRAINING/250'+filename,\n",
    "    'w',\n",
    "        driver='GTiff',\n",
    "        height=a.shape[0],\n",
    "        width=a.shape[1],\n",
    "        count=1,\n",
    "        dtype= data.dtype,\n",
    "        crs= dataset.crs,\n",
    "        transform= dataset.transform\n",
    "        )as dst:\n",
    "            dst.write(data)"
   ]
  },
  {
   "cell_type": "markdown",
   "metadata": {},
   "source": [
    "## Fast test to check if the image has been resampled correctly"
   ]
  },
  {
   "cell_type": "code",
   "execution_count": 12,
   "metadata": {},
   "outputs": [
    {
     "name": "stdout",
     "output_type": "stream",
     "text": [
      "(40, 27)\n"
     ]
    },
    {
     "data": {
      "image/png": "[encoded data removed]",
      "text/plain": [
       "<Figure size 432x288 with 1 Axes>"
      ]
     },
     "metadata": {
      "needs_background": "light"
     },
     "output_type": "display_data"
    }
   ],
   "source": [
    "path = 'E:/appearstest/NDVI_TRAINING/'\n",
    "testlist = glob.glob(path +'*.tif')\n",
    "test = rasterio.open(testlist[4])\n",
    "test_np = test.read(1,masked = True)\n",
    "print(test_np.shape)\n",
    "plt.imshow(test_np,vmin = 0,vmax=0.5)\n",
    "plt.show()"
   ]
  },
  {
   "cell_type": "markdown",
   "metadata": {},
   "source": [
    "# Random Forest Regression"
   ]
  },
  {
   "cell_type": "code",
   "execution_count": 13,
   "metadata": {},
   "outputs": [
    {
     "name": "stdout",
     "output_type": "stream",
     "text": [
      "70\n",
      "70\n"
     ]
    }
   ],
   "source": [
    "predictor_train_set_path = \"E:/appearstest/NDVI_TRAINING/\"\n",
    "predictor_train_set_list = glob.glob(predictor_train_set_path + \"*.tif\")\n",
    "\n",
    "label_train_set_path = \"E:/appearstest/LST_NIGHT_F/\"\n",
    "label_train_set_list = glob.glob(label_train_set_path + \"*.tif\")\n",
    "\n",
    "test_set_path = \"E:/appearstest/NDVI/\"\n",
    "test_set_list = glob.glob(test_set_path + \"*.tif\")\n",
    "\n",
    "filenames = []\n",
    "for fname in label_train_set_list :\n",
    "     filename = os.path.basename(fname)\n",
    "     filenames.append(filename)\n",
    "print(len(filenames))\n",
    "print(len(test_set_list))"
   ]
  },
  {
   "cell_type": "markdown",
   "metadata": {},
   "source": [
    "## Looping through the files, reading them and \"clipping\" them to vallues that will impose meaning to the imaging and reduce noise therefore compiling time. \n",
    "\n",
    "Since the algorith will be trained to correlate vectors of 1000m resolution to 1000m which have 16 times less pixels than 250m vectors we split the test set into smaller arrays on which we will perform the prediction and then reassemble into a full 250m resolution image print(test_set_np.shape)"
   ]
  },
  {
   "cell_type": "code",
   "execution_count": 14,
   "metadata": {},
   "outputs": [],
   "source": [
    "for i in range(len(label_train_set_list)):\n",
    " \n",
    "    label_train_set = rasterio.open(label_train_set_list[i])\n",
    "    label_train_set_np = label_train_set.read(1,masked = False)\n",
    "    label_train_set_np = np.clip(label_train_set_np, 280,label_train_set_np.max())\n",
    "    label_train_set_np = label_train_set_np.reshape(-1, 1).flatten()\n",
    "    \n",
    "\n",
    "    predictor_train_set = rasterio.open(predictor_train_set_list[i])\n",
    "    predictor_train_set_np = predictor_train_set.read(1,masked = False)\n",
    "    predictor_train_set_np = np.clip(predictor_train_set_np,-0.5,0.5)\n",
    "    predictor_train_set_np = predictor_train_set_np.reshape(-1, 1)\n",
    "   \n",
    "    \n",
    "    test_set = rasterio.open(test_set_list[i])\n",
    "    test_set_np = test_set.read(1, masked = False)\n",
    "    empty = np.full((2,108), 0,float)\n",
    "    test_set_np = np.append(test_set_np,empty,axis = 0) #fixing vector size since random forest regression requires same length vectors to work\n",
    "    split = np.array_split(test_set_np, 4, axis = 0) #since the algorith will be trained to correlate vectors of 1000m resolution to 1000m which have 16 times less pixels than 250m vectors we split the test set into smaller arrays \n",
    "    #on which we will perform the prediction and then reassemble into a full 250m resolution image\n",
    "    # print(test_set_np.shape)\n",
    "    new_l = []\n",
    "    for j in range(len(split)):\n",
    "        split_2 = np.array_split(split[j], 4 , axis = 1)\n",
    "        new_l += split_2\n",
    "        \n",
    "\n",
    "    x_train = predictor_train_set_np\n",
    "    y_train = label_train_set_np\n",
    "    \n",
    "\n",
    "    regressor = RandomForestRegressor(n_estimators=100,random_state=0)\n",
    "    regressor.fit(x_train, y_train)\n",
    "    final = []\n",
    "    \n",
    "    for k in range(len(new_l)):\n",
    "        temp = new_l[k].reshape(-1, 1)\n",
    "        y_pred = regressor.predict(temp)\n",
    "        y_pred = y_pred.reshape(40,27)\n",
    "        final.append(y_pred)\n",
    "\n",
    "    \n",
    "    r1 = np.concatenate((final[0],final[1],final[2],final[3]), axis = 1)\n",
    "    r2 = np.concatenate((final[4],final[5],final[6],final[7]),axis = 1)\n",
    "    r3 = np.concatenate((final[8],final[9],final[10],final[11]), axis = 1)\n",
    "    r4 = np.concatenate((final[12],final[13],final[14],final[15]), axis = 1)\n",
    "    \n",
    "    image = np.concatenate((r1,r2,r3,r4), axis = 0)\n",
    "    \n",
    "    predictor_train_set_np = None\n",
    "    test_set_np = None\n",
    "\n",
    "    with rasterio.open(\n",
    "        'E:/appearstest/PREDICTIONS/PRED_'+filenames[i],\n",
    "        'w',\n",
    "        driver='GTiff',\n",
    "        height=image.shape[0],\n",
    "        width=image.shape[1],\n",
    "        count=1,\n",
    "        dtype= label_train_set_np.dtype,\n",
    "        crs= label_train_set.crs,\n",
    "        transform= label_train_set.transform\n",
    "        )as dst:\n",
    "         dst.write(image, 1)\n",
    "    \n",
    "label_train_set_np = None "
   ]
  },
  {
   "cell_type": "markdown",
   "metadata": {},
   "source": [
    "# Residual Correction"
   ]
  },
  {
   "cell_type": "code",
   "execution_count": 15,
   "metadata": {},
   "outputs": [
    {
     "name": "stdout",
     "output_type": "stream",
     "text": [
      "70\n"
     ]
    }
   ],
   "source": [
    "data_pre_dir_path = 'E:/appearstest/PREDICTIONS/'\n",
    "pred_list = glob.glob(data_pre_dir_path + '*.tif')#filename to be updated based on NDVI product naming\n",
    "\n",
    "original = 'E:/appearstest/LST_NIGHT_F/'\n",
    "original_list = glob.glob(original + '*.tif')\n",
    "print(len(pred_list))\n",
    "\n",
    "a = np.empty((40,27)) # to be updated with the size of LST in appears \n",
    "for i in range(len(pred_list)):\n",
    "    filename = os.path.basename(pred_list[i])\n",
    "    lst = rasterio.open(original_list[i])\n",
    "    lst_np = lst.read(1,masked = True)\n",
    "\n",
    "    upscale_factor = 1/4\n",
    "\n",
    "    with rasterio.open(pred_list[i]) as dataset:\n",
    "\n",
    "        # resample data to target shape\n",
    "        data = dataset.read(\n",
    "            out_shape=(\n",
    "                dataset.count,\n",
    "                int(dataset.height * upscale_factor),\n",
    "                int(dataset.width * upscale_factor)\n",
    "            ),\n",
    "            resampling=Resampling.average\n",
    "        )\n",
    "    \n",
    "\n",
    "    residual = lst_np - data\n",
    "\n",
    "    with rasterio.open(\n",
    "    'E:/appearstest/RESIDUAL/RES'+filename,#to be created as a folder and the name to be generated \n",
    "    'w',\n",
    "        driver='GTiff',\n",
    "        height=a.shape[0],\n",
    "        width=a.shape[1],\n",
    "        count=1,\n",
    "        dtype= data.dtype,\n",
    "        crs= dataset.crs,\n",
    "        transform= dataset.transform\n",
    "        )as dst:\n",
    "            dst.write(residual)"
   ]
  },
  {
   "cell_type": "code",
   "execution_count": 18,
   "metadata": {},
   "outputs": [
    {
     "name": "stdout",
     "output_type": "stream",
     "text": [
      "70\n",
      "70\n"
     ]
    }
   ],
   "source": [
    "respath = 'E:/appearstest/RESIDUAL/'\n",
    "res_list = glob.glob(respath + '*.tif')\n",
    "downscale_factor = 4\n",
    "b = np.empty((160,108))\n",
    "print(len(res_list))\n",
    "data_pre_dir_path = 'E:/appearstest/PREDICTIONS/'\n",
    "pred_list = glob.glob(data_pre_dir_path + '*.tif')#filename to be updated based on NDVI product naming\n",
    "for i in range(len(pred_list)):\n",
    "    filename = os.path.basename(pred_list[i])\n",
    "    #print(filename)\n",
    "    pred_temp = rasterio.open(pred_list[i])\n",
    "    pred_temp_np = pred_temp.read(1, masked = True)\n",
    "    upscale_factor = 4\n",
    "\n",
    "    with rasterio.open(res_list[i]) as dataset:\n",
    "\n",
    "        # resample data to target shape\n",
    "        data = dataset.read(\n",
    "            out_shape=(\n",
    "                dataset.count,\n",
    "                int(dataset.height * upscale_factor),\n",
    "                int(dataset.width * upscale_factor)\n",
    "            ),\n",
    "            resampling=Resampling.average\n",
    "        )\n",
    "    \n",
    "\n",
    "    final = pred_temp_np + data\n",
    "\n",
    "    with rasterio.open(\n",
    "    'E:/appearstest/RES_CORRECTED/COR'+filename,#to be created as a folder and the name to be generated \n",
    "    'w',\n",
    "        driver='GTiff',\n",
    "        height=b.shape[0],\n",
    "        width=b.shape[1],\n",
    "        count=1,\n",
    "        dtype= data.dtype,\n",
    "        crs= dataset.crs,\n",
    "        transform= dataset.transform\n",
    "        )as dst:\n",
    "            dst.write(final)\n",
    "print(len(pred_list))"
   ]
  }
 ],
 "metadata": {
  "interpreter": {
   "hash": "e678cfbdcaee64138a180148fcab9bb18d2cab95968dc103a3e0c6be635ed449"
  },
  "kernelspec": {
   "display_name": "Python 3.10.0 64-bit",
   "language": "python",
   "name": "python3"
  },
  "language_info": {
   "codemirror_mode": {
    "name": "ipython",
    "version": 3
   },
   "file_extension": ".py",
   "mimetype": "text/x-python",
   "name": "python",
   "nbconvert_exporter": "python",
   "pygments_lexer": "ipython3",
   "version": "3.10.0"
  },
  "orig_nbformat": 4
 },
 "nbformat": 4,
 "nbformat_minor": 2
}
